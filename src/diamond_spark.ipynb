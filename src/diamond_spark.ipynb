{
 "cells": [
  {
   "cell_type": "code",
   "execution_count": 14,
   "metadata": {
    "ExecuteTime": {
     "end_time": "2019-11-24T12:22:05.786856Z",
     "start_time": "2019-11-24T12:22:05.780695Z"
    }
   },
   "outputs": [],
   "source": [
    "from pyspark.sql import SparkSession\n",
    "from pyspark import SparkConf, SparkContext\n",
    "from pyspark.sql import SQLContext\n",
    "\n",
    "import pyspark.sql.functions as F\n",
    "from pyspark.ml.feature import StringIndexer\n",
    "from pyspark.ml.feature import VectorAssembler\n",
    "from pyspark.ml.regression import LinearRegression\n",
    "\n",
    "import os\n",
    "os.environ[\"PYSPARK_SUBMIT_ARGS\"] = \"--packages mysql:mysql-connector-java:5.1.46 pyspark-shell\"\n",
    "# Load MYSql connector \n",
    "SQL_USR, SQL_PSW= os.environ['SQL_USR'], os.environ['SQL_PSW']\n",
    "\n",
    "\n",
    "import findspark\n",
    "findspark.init()\n",
    "import pyspark # only run after findspark.init()\n",
    "from pyspark.sql import SparkSession\n",
    "spark = SparkSession.builder.getOrCreate()\n",
    "\n",
    "dataframe_mysql = spark.read.format(\"jdbc\")\\\n",
    "    .option('url', \"jdbc:mysql://localhost:3306/Diamonds\")\\\n",
    "    .option('driver', \"com.mysql.cj.jdbc.Driver\")\\\n",
    "    .option('dbtable', \"physical\")\\\n",
    "    .option('user', SQL_USR)\\\n",
    "    .option('password', SQL_PSW)\\\n",
    "    .load()\n",
    "\n",
    "dataframe_mysql.show()"
   ]
  },
  {
   "cell_type": "code",
   "execution_count": 4,
   "metadata": {
    "ExecuteTime": {
     "end_time": "2019-11-24T12:12:22.866482Z",
     "start_time": "2019-11-24T12:12:22.858880Z"
    }
   },
   "outputs": [],
   "source": [
    "spark = SparkSession.builder\\\n",
    "                      .appName('Diamonds spark')\\\n",
    "                      .master('local[*]')\\\n",
    "                      .getOrCreate()\n",
    "\n",
    "# Print structure\n",
    "#df.printSchema()\n",
    "# Extract numeric/category columns\n",
    "#cat_columns=[item[0] for item in df.dtypes if item[1]=='string']\n",
    "#num_columns=[item[0] for item in df.dtypes if item[1]!='string']\n",
    "\n",
    "# Create SQL table\n",
    "#df.createOrReplaceTempView('df')"
   ]
  },
  {
   "cell_type": "code",
   "execution_count": null,
   "metadata": {},
   "outputs": [],
   "source": []
  }
 ],
 "metadata": {
  "kernelspec": {
   "display_name": "Python 3",
   "language": "python",
   "name": "python3"
  },
  "toc": {
   "base_numbering": 1,
   "nav_menu": {},
   "number_sections": true,
   "sideBar": true,
   "skip_h1_title": false,
   "title_cell": "Table of Contents",
   "title_sidebar": "Contents",
   "toc_cell": false,
   "toc_position": {},
   "toc_section_display": true,
   "toc_window_display": false
  },
  "varInspector": {
   "cols": {
    "lenName": 16,
    "lenType": 16,
    "lenVar": 40
   },
   "kernels_config": {
    "python": {
     "delete_cmd_postfix": "",
     "delete_cmd_prefix": "del ",
     "library": "var_list.py",
     "varRefreshCmd": "print(var_dic_list())"
    },
    "r": {
     "delete_cmd_postfix": ") ",
     "delete_cmd_prefix": "rm(",
     "library": "var_list.r",
     "varRefreshCmd": "cat(var_dic_list()) "
    }
   },
   "types_to_exclude": [
    "module",
    "function",
    "builtin_function_or_method",
    "instance",
    "_Feature"
   ],
   "window_display": false
  }
 },
 "nbformat": 4,
 "nbformat_minor": 2
}
